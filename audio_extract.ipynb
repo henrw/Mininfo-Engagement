{
 "cells": [
  {
   "cell_type": "code",
   "execution_count": 7,
   "metadata": {},
   "outputs": [
    {
     "name": "stdout",
     "output_type": "stream",
     "text": [
      "2 videos to convert...\n",
      "\n",
      "MoviePy - Writing audio in audio/MI0001 copy.wav\n",
      "MoviePy - Done.                                                                 \n",
      "Time: 1.7938542366027832\n",
      "MoviePy - Writing audio in audio/MI0001.wav\n",
      "MoviePy - Done.                                                                 \n",
      "Time: 1.7976090908050537\n"
     ]
    }
   ],
   "source": [
    "!python3 audio_process.py videos"
   ]
  }
 ],
 "metadata": {
  "kernelspec": {
   "display_name": "Python 3.10.4 ('misinfo-engage')",
   "language": "python",
   "name": "python3"
  },
  "language_info": {
   "codemirror_mode": {
    "name": "ipython",
    "version": 3
   },
   "file_extension": ".py",
   "mimetype": "text/x-python",
   "name": "python",
   "nbconvert_exporter": "python",
   "pygments_lexer": "ipython3",
   "version": "3.10.4"
  },
  "orig_nbformat": 4,
  "vscode": {
   "interpreter": {
    "hash": "f55660a99edc102e429c02d1ab76b3a3757ff9e4622d9f6449420b02fb59264a"
   }
  }
 },
 "nbformat": 4,
 "nbformat_minor": 2
}
