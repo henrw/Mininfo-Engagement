{
 "cells": [
  {
   "cell_type": "code",
   "execution_count": 7,
   "metadata": {},
   "outputs": [
    {
     "name": "stdout",
     "output_type": "stream",
     "text": [
      "Traceback (most recent call last):\n",
      "  File \"/Users/henrywu/Documents/UM/3_2022_Summer/Misinfo Engagement/FusionModel/preprocess/audio_process.py\", line 33, in <module>\n",
      "    main()\n",
      "  File \"/Users/henrywu/opt/anaconda3/envs/misinfoengage/lib/python3.9/site-packages/click/core.py\", line 1130, in __call__\n",
      "    return self.main(*args, **kwargs)\n",
      "  File \"/Users/henrywu/opt/anaconda3/envs/misinfoengage/lib/python3.9/site-packages/click/core.py\", line 1055, in main\n",
      "    rv = self.invoke(ctx)\n",
      "  File \"/Users/henrywu/opt/anaconda3/envs/misinfoengage/lib/python3.9/site-packages/click/core.py\", line 1404, in invoke\n",
      "    return ctx.invoke(self.callback, **ctx.params)\n",
      "  File \"/Users/henrywu/opt/anaconda3/envs/misinfoengage/lib/python3.9/site-packages/click/core.py\", line 760, in invoke\n",
      "    return __callback(*args, **kwargs)\n",
      "  File \"/Users/henrywu/Documents/UM/3_2022_Summer/Misinfo Engagement/FusionModel/preprocess/audio_process.py\", line 14, in main\n",
      "    output_dir.mkdir(exist_ok=True)\n",
      "  File \"/Users/henrywu/opt/anaconda3/envs/misinfoengage/lib/python3.9/pathlib.py\", line 1323, in mkdir\n",
      "    self._accessor.mkdir(self, mode)\n",
      "FileNotFoundError: [Errno 2] No such file or directory: 'data/audio'\n"
     ]
    }
   ],
   "source": [
    "!python3 audio_process.py data/videos"
   ]
  },
  {
   "cell_type": "code",
   "execution_count": null,
   "metadata": {},
   "outputs": [],
   "source": [
    "print(\"hello\")"
   ]
  }
 ],
 "metadata": {
  "kernelspec": {
   "display_name": "Python 3.9.12 ('misinfoengage')",
   "language": "python",
   "name": "python3"
  },
  "language_info": {
   "codemirror_mode": {
    "name": "ipython",
    "version": 3
   },
   "file_extension": ".py",
   "mimetype": "text/x-python",
   "name": "python",
   "nbconvert_exporter": "python",
   "pygments_lexer": "ipython3",
   "version": "3.9.12"
  },
  "orig_nbformat": 4,
  "vscode": {
   "interpreter": {
    "hash": "54d3b53da97a4d5230a2d6a56d4dc057ea257b55156c1302576dbafca9234f1a"
   }
  }
 },
 "nbformat": 4,
 "nbformat_minor": 2
}
